{
 "cells": [
  {
   "cell_type": "markdown",
   "metadata": {},
   "source": [
    "# Word context"
   ]
  },
  {
   "cell_type": "code",
   "execution_count": 2,
   "metadata": {},
   "outputs": [],
   "source": [
    "import numpy as np\n",
    "from collections import defaultdict\n",
    "from nltk.tokenize import word_tokenize\n",
    "from sklearn.metrics.pairwise import cosine_similarity"
   ]
  },
  {
   "cell_type": "code",
   "execution_count": 5,
   "metadata": {},
   "outputs": [
    {
     "name": "stderr",
     "output_type": "stream",
     "text": [
      "[nltk_data] Downloading package punkt to /Users/sofarooq/nltk_data...\n",
      "[nltk_data]   Unzipping tokenizers/punkt.zip.\n"
     ]
    },
    {
     "data": {
      "text/plain": [
       "True"
      ]
     },
     "execution_count": 5,
     "metadata": {},
     "output_type": "execute_result"
    }
   ],
   "source": [
    "import nltk\n",
    "nltk.download('punkt')"
   ]
  },
  {
   "cell_type": "code",
   "execution_count": 6,
   "metadata": {},
   "outputs": [
    {
     "name": "stdout",
     "output_type": "stream",
     "text": [
      "Word Context Matrix:\n",
      "[[0. 0. 1. 0. 0. 0. 0. 1. 0. 0. 0. 0.]\n",
      " [0. 0. 0. 1. 0. 0. 1. 0. 0. 1. 1. 0.]\n",
      " [1. 0. 0. 0. 0. 1. 0. 1. 0. 0. 0. 1.]\n",
      " [0. 1. 0. 0. 1. 0. 0. 0. 1. 1. 0. 0.]\n",
      " [0. 0. 0. 1. 0. 1. 0. 0. 1. 0. 0. 1.]\n",
      " [0. 0. 1. 0. 1. 0. 0. 0. 1. 0. 0. 1.]\n",
      " [0. 1. 0. 0. 0. 0. 0. 0. 0. 1. 1. 0.]\n",
      " [1. 0. 1. 0. 0. 0. 0. 0. 0. 0. 0. 1.]\n",
      " [0. 0. 0. 1. 1. 1. 0. 0. 0. 1. 0. 0.]\n",
      " [0. 1. 0. 1. 0. 0. 1. 0. 1. 0. 0. 0.]\n",
      " [0. 1. 0. 0. 0. 0. 1. 0. 0. 0. 0. 0.]\n",
      " [0. 0. 1. 0. 1. 1. 0. 1. 0. 0. 0. 0.]]\n",
      "Vocabulary List:\n",
      "['.', 'a', 'context', 'example', 'for', 'generating', 'is', 'matrix', 'sentence', 'simple', 'this', 'word']\n",
      "\n",
      "Similarity between 'simple' and 'sentence' is: 0.25\n"
     ]
    }
   ],
   "source": [
    "def generate_word_context_matrix(corpus, window_size=2):\n",
    "    word_context = defaultdict(lambda: defaultdict(int))\n",
    "    vocabulary = set()\n",
    "    \n",
    "    # Tokenize the corpus\n",
    "    tokens = word_tokenize(corpus.lower())\n",
    "    \n",
    "    # Build word-context matrix\n",
    "    for i, word in enumerate(tokens):\n",
    "        for j in range(max(i - window_size, 0), min(i + window_size + 1, len(tokens))):\n",
    "            if i != j:\n",
    "                context_word = tokens[j]\n",
    "                word_context[word][context_word] += 1\n",
    "                vocabulary.add(word)\n",
    "                vocabulary.add(context_word)\n",
    "                \n",
    "    # Convert the word-context matrix to a numpy array\n",
    "    vocab_list = sorted(vocabulary)\n",
    "    matrix = np.zeros((len(vocab_list), len(vocab_list)))\n",
    "    for i, word in enumerate(vocab_list):\n",
    "        for j, context_word in enumerate(vocab_list):\n",
    "            matrix[i][j] = word_context[word][context_word]\n",
    "    \n",
    "    return matrix, vocab_list\n",
    "\n",
    "def similarity(word1, word2, word_context_matrix, vocab_list):\n",
    "    if word1 not in vocab_list or word2 not in vocab_list:\n",
    "        return \"One or both words not found in the vocabulary.\"\n",
    "    \n",
    "    index1 = vocab_list.index(word1)\n",
    "    index2 = vocab_list.index(word2)\n",
    "    \n",
    "    vec1 = word_context_matrix[index1].reshape(1, -1)\n",
    "    vec2 = word_context_matrix[index2].reshape(1, -1)\n",
    "    \n",
    "    similarity_score = cosine_similarity(vec1, vec2)[0][0]\n",
    "    \n",
    "    return similarity_score\n",
    "\n",
    "# Example usage:\n",
    "corpus = \"This is a simple example sentence for generating word context matrix.\"\n",
    "window_size = 2\n",
    "\n",
    "matrix, vocab_list = generate_word_context_matrix(corpus, window_size)\n",
    "word1 = \"simple\"\n",
    "word2 = \"sentence\"\n",
    "\n",
    "print(\"Word Context Matrix:\")\n",
    "print(matrix)\n",
    "print(\"Vocabulary List:\")\n",
    "print(vocab_list)\n",
    "\n",
    "print(\"\\nSimilarity between '{}' and '{}' is: {}\".format(word1, word2, similarity(word1, word2, matrix, vocab_list)))"
   ]
  }
 ],
 "metadata": {
  "kernelspec": {
   "display_name": "Python 3",
   "language": "python",
   "name": "python3"
  },
  "language_info": {
   "codemirror_mode": {
    "name": "ipython",
    "version": 3
   },
   "file_extension": ".py",
   "mimetype": "text/x-python",
   "name": "python",
   "nbconvert_exporter": "python",
   "pygments_lexer": "ipython3",
   "version": "3.9.6"
  }
 },
 "nbformat": 4,
 "nbformat_minor": 2
}
