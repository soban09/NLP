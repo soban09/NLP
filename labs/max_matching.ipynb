{
 "cells": [
  {
   "cell_type": "markdown",
   "metadata": {},
   "source": [
    "# Max matching segmentation"
   ]
  },
  {
   "cell_type": "code",
   "execution_count": 6,
   "metadata": {},
   "outputs": [],
   "source": [
    "import nltk"
   ]
  },
  {
   "cell_type": "code",
   "execution_count": 7,
   "metadata": {},
   "outputs": [],
   "source": [
    "from nltk.corpus import words"
   ]
  },
  {
   "cell_type": "code",
   "execution_count": 8,
   "metadata": {},
   "outputs": [
    {
     "name": "stderr",
     "output_type": "stream",
     "text": [
      "[nltk_data] Downloading package words to /Users/sofarooq/nltk_data...\n",
      "[nltk_data]   Unzipping corpora/words.zip.\n"
     ]
    },
    {
     "data": {
      "text/plain": [
       "True"
      ]
     },
     "execution_count": 8,
     "metadata": {},
     "output_type": "execute_result"
    }
   ],
   "source": [
    "nltk.download('words')"
   ]
  },
  {
   "cell_type": "code",
   "execution_count": 9,
   "metadata": {},
   "outputs": [
    {
     "name": "stdout",
     "output_type": "stream",
     "text": [
      "['every', 'morning', 'the', 'sunrise', 'sov', 'erth', 'eh', 'or', 'i', 'zo', 'n', 'casting', 'its', 'warm', 'ray', 'sup', 'on', 'the', 'sleepy', 'town', 'bird', 's', 'chirp', 'happily', 'in', 'the', 'tree', 's', 'welcoming', 'then', 'e', 'w', 'day', 'people', 'emerge', 'from', 'their', 'home', 's', 'ready', 'tost', 'art', 'their', 'daily', 'routine', 'st', 'hear', 'omao', 'f', 'breakfast', 'fill', 'st', 'he', 'aira', 's', 'fam', 'i', 'lie', 's', 'gather', 'around', 'theta', 'b', 'les', 'ha', 'ring', 'st', 'or', 'ie', 'sand', 'laughter', 'life', 'goes', 'ona', 'sita', 'l', 'ways', 'does', 'in', 'this', 'peaceful', 'corner', 'oft', 'hew', 'or', 'l', 'd']\n"
     ]
    }
   ],
   "source": [
    "string = \"Every morning, the sun rises over the horizon, casting its warm rays upon the sleepy town. Birds chirp happily in the trees, welcoming the new day. People emerge from their homes, ready to start their daily routines. The aroma of breakfast fills the air as families gather around the table, sharing stories and laughter. Life goes on, as it always does, in this peaceful corner of the world.\"\n",
    "\n",
    "string = string.replace(\" \", \"\")\n",
    "\n",
    "string = string.replace(\".\", \"\")\n",
    "string = string.replace(\",\", \"\")\n",
    "string = string.replace(\";\", \"\")\n",
    "string = string.replace(\":\", \"\")\n",
    "string = string.replace(\"!\", \"\")\n",
    "string = string.replace(\"?\", \"\")\n",
    "\n",
    "string = string.lower()\n",
    "\n",
    "tokens = []\n",
    "lowercaseCorpus = [x.lower() for x in words.words()]\n",
    "i = 0\n",
    "while i < len(string):\n",
    "    maxWord = \"\"\n",
    "    for j in range(i, len(string)):\n",
    "        tempWord = string[i:j+1]\n",
    "        if tempWord in lowercaseCorpus and len(tempWord) > len(maxWord):\n",
    "            maxWord = tempWord\n",
    "    i = i+len(maxWord)\n",
    "    tokens.append(maxWord)\n",
    "\n",
    "print(tokens)"
   ]
  }
 ],
 "metadata": {
  "kernelspec": {
   "display_name": "Python 3",
   "language": "python",
   "name": "python3"
  },
  "language_info": {
   "codemirror_mode": {
    "name": "ipython",
    "version": 3
   },
   "file_extension": ".py",
   "mimetype": "text/x-python",
   "name": "python",
   "nbconvert_exporter": "python",
   "pygments_lexer": "ipython3",
   "version": "3.9.6"
  }
 },
 "nbformat": 4,
 "nbformat_minor": 2
}
