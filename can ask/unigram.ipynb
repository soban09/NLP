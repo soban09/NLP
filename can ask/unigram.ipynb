{
 "cells": [
  {
   "cell_type": "code",
   "execution_count": 1,
   "metadata": {},
   "outputs": [
    {
     "name": "stdout",
     "output_type": "stream",
     "text": [
      "Cosine similarity between 'this' and 'another': 0.0\n"
     ]
    }
   ],
   "source": [
    "import numpy as np\n",
    "\n",
    "def create_unigram_count_matrix(corpus):\n",
    "    # Tokenize the corpus into words\n",
    "    tokens = [document.split() for document in corpus]\n",
    "\n",
    "    vocabulary = list(set(word for document in tokens for word in document))\n",
    "\n",
    "    count_matrix = np.zeros((len(corpus), len(vocabulary)), dtype=int)\n",
    "\n",
    "    for i, document in enumerate(tokens):\n",
    "        for word in document:\n",
    "            if word in vocabulary:\n",
    "                count_matrix[i][vocabulary.index(word)] += 1\n",
    "\n",
    "    return count_matrix, vocabulary\n",
    "\n",
    "def cosine_similarity(vector1, vector2):\n",
    "    dot_product = np.dot(vector1, vector2)\n",
    "    magnitude1 = np.sqrt(np.dot(vector1, vector1))\n",
    "    magnitude2 = np.sqrt(np.dot(vector2, vector2))\n",
    "    similarity = dot_product / (magnitude1 * magnitude2)\n",
    "    return similarity\n",
    "\n",
    "# Example usage:\n",
    "corpus = [\"this is a test\", \"another test example\", \"yet another example\"]\n",
    "count_matrix, vocabulary = create_unigram_count_matrix(corpus)\n",
    "\n",
    "# Calculate word vectors for two given words\n",
    "word1_index = vocabulary.index('this')\n",
    "word2_index = vocabulary.index('another')\n",
    "word_vector1 = count_matrix[:, word1_index]\n",
    "word_vector2 = count_matrix[:, word2_index]\n",
    "\n",
    "# Calculate cosine similarity between word vectors\n",
    "similarity = cosine_similarity(word_vector1, word_vector2)\n",
    "print(f\"Cosine similarity between '{vocabulary[word1_index]}' and '{vocabulary[word2_index]}': {similarity}\")"
   ]
  },
  {
   "cell_type": "code",
   "execution_count": 2,
   "metadata": {},
   "outputs": [
    {
     "data": {
      "text/plain": [
       "array([[1, 0, 1, 0, 0, 1, 1],\n",
       "       [0, 1, 0, 0, 1, 1, 0],\n",
       "       [0, 1, 0, 1, 1, 0, 0]])"
      ]
     },
     "execution_count": 2,
     "metadata": {},
     "output_type": "execute_result"
    }
   ],
   "source": []
  },
  {
   "cell_type": "code",
   "execution_count": null,
   "metadata": {},
   "outputs": [],
   "source": []
  }
 ],
 "metadata": {
  "kernelspec": {
   "display_name": "Python 3",
   "language": "python",
   "name": "python3"
  },
  "language_info": {
   "codemirror_mode": {
    "name": "ipython",
    "version": 3
   },
   "file_extension": ".py",
   "mimetype": "text/x-python",
   "name": "python",
   "nbconvert_exporter": "python",
   "pygments_lexer": "ipython3",
   "version": "3.11.1"
  }
 },
 "nbformat": 4,
 "nbformat_minor": 2
}
