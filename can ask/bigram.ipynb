{
 "cells": [
  {
   "cell_type": "code",
   "execution_count": 4,
   "metadata": {},
   "outputs": [
    {
     "name": "stdout",
     "output_type": "stream",
     "text": [
      "Cosine similarity between '('this', 'is')' and '('another', 'test')': 0.0\n"
     ]
    }
   ],
   "source": [
    "import numpy as np\n",
    "\n",
    "def create_bigram_count_matrix(corpus):\n",
    "    # Tokenize the corpus into words\n",
    "    tokens = [document.split() for document in corpus]\n",
    "\n",
    "    bigrams = [tuple(tokens[i][j:j+2]) for i in range(len(tokens)) for j in range(len(tokens[i]) - 1)]\n",
    "\n",
    "    vocabulary = list(set(bigrams))\n",
    "\n",
    "    count_matrix = np.zeros((len(corpus), len(vocabulary)), dtype=int)\n",
    "\n",
    "    for i, document in enumerate(tokens):\n",
    "        document_bigrams = [tuple(document[j:j+2]) for j in range(len(document) - 1)]\n",
    "        for bigram in document_bigrams:\n",
    "            if bigram in vocabulary:\n",
    "                count_matrix[i][vocabulary.index(bigram)] += 1\n",
    "\n",
    "    return count_matrix, vocabulary\n",
    "\n",
    "def cosine_similarity(vector1, vector2):\n",
    "    dot_product = np.dot(vector1, vector2)\n",
    "    magnitude1 = np.sqrt(np.dot(vector1, vector1))\n",
    "    magnitude2 = np.sqrt(np.dot(vector2, vector2))\n",
    "    similarity = dot_product / (magnitude1 * magnitude2)\n",
    "    return similarity\n",
    "\n",
    "# Example usage:\n",
    "corpus = [\"this is a test\", \"another test example\", \"yet another example\"]\n",
    "count_matrix, vocabulary = create_bigram_count_matrix(corpus)\n",
    "\n",
    "# Calculate word vectors for two given words\n",
    "word1_index = vocabulary.index(('this', 'is'))\n",
    "word2_index = vocabulary.index(('another', 'test'))\n",
    "word_vector1 = count_matrix[:, word1_index]\n",
    "word_vector2 = count_matrix[:, word2_index]\n",
    "\n",
    "# Calculate cosine similarity between word vectors\n",
    "similarity = cosine_similarity(word_vector1, word_vector2)\n",
    "print(f\"Cosine similarity between '{vocabulary[word1_index]}' and '{vocabulary[word2_index]}': {similarity}\")\n"
   ]
  },
  {
   "cell_type": "code",
   "execution_count": 5,
   "metadata": {},
   "outputs": [
    {
     "data": {
      "text/plain": [
       "array([[0, 0, 1, 0, 1, 1, 0],\n",
       "       [1, 0, 0, 0, 0, 0, 1],\n",
       "       [0, 1, 0, 1, 0, 0, 0]])"
      ]
     },
     "execution_count": 5,
     "metadata": {},
     "output_type": "execute_result"
    }
   ],
   "source": [
    "count_matrix"
   ]
  },
  {
   "cell_type": "code",
   "execution_count": null,
   "metadata": {},
   "outputs": [],
   "source": [
    "# with open(file_path, 'r') as file:\n",
    "#         text = file.read().split()"
   ]
  }
 ],
 "metadata": {
  "kernelspec": {
   "display_name": "Python 3",
   "language": "python",
   "name": "python3"
  },
  "language_info": {
   "codemirror_mode": {
    "name": "ipython",
    "version": 3
   },
   "file_extension": ".py",
   "mimetype": "text/x-python",
   "name": "python",
   "nbconvert_exporter": "python",
   "pygments_lexer": "ipython3",
   "version": "3.11.1"
  }
 },
 "nbformat": 4,
 "nbformat_minor": 2
}
